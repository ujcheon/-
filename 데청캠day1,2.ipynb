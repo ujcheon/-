{
  "nbformat": 4,
  "nbformat_minor": 0,
  "metadata": {
    "colab": {
      "name": "데청캠day1,2.ipynb",
      "provenance": [],
      "collapsed_sections": [],
      "authorship_tag": "ABX9TyPYvpWyOuH9bsnURvGjxxnA"
    },
    "kernelspec": {
      "name": "python3",
      "display_name": "Python 3"
    },
    "language_info": {
      "name": "python"
    }
  },
  "cells": [
    {
      "cell_type": "code",
      "metadata": {
        "colab": {
          "base_uri": "https://localhost:8080/"
        },
        "id": "txQSaR7oW9rI",
        "outputId": "1aa5578f-f1f6-4bcf-c1d7-c092b5958e6b"
      },
      "source": [
        "print(2, end=\"\\t\")\n",
        "print(33)"
      ],
      "execution_count": null,
      "outputs": [
        {
          "output_type": "stream",
          "text": [
            "2\t33\n"
          ],
          "name": "stdout"
        }
      ]
    },
    {
      "cell_type": "code",
      "metadata": {
        "colab": {
          "base_uri": "https://localhost:8080/"
        },
        "id": "TFC7_cwCZ_y_",
        "outputId": "d98082e2-4fca-4bca-a4bb-027105701f54"
      },
      "source": [
        "# pseudocode\n",
        "# input 함수로 섭씨 온도를 출력받기\n",
        "ondo = int(input(\"섭씨 온도를 입력하세요: \"))\n",
        "# 변환식 써서 화씨 변수에 저장\n",
        "ondo = ondo * 1.8 +32\n",
        "# 화씨 변수를 출력\n",
        "print(ondo)"
      ],
      "execution_count": null,
      "outputs": [
        {
          "output_type": "stream",
          "text": [
            "섭씨 온도를 입력하세요: 15\n",
            "59.0\n"
          ],
          "name": "stdout"
        }
      ]
    },
    {
      "cell_type": "code",
      "metadata": {
        "id": "YiAAmDnJl4cQ",
        "colab": {
          "base_uri": "https://localhost:8080/"
        },
        "outputId": "8298e108-505f-482c-aa99-3d16c0dbc495"
      },
      "source": [
        "#p37-4 \n",
        "\n",
        "for lineNumber in range(1,6):\n",
        "  # 공백 찍기 : 4(1행) -3 -2-1\n",
        "  # 공백은 5-행번호\n",
        "  print(' '* (5-lineNumber), end='')\n",
        "  # 별찍기 : 행번호 *2-1\n",
        "  print('*'*(lineNumber*2-1))\n",
        "\n",
        "    "
      ],
      "execution_count": null,
      "outputs": [
        {
          "output_type": "stream",
          "text": [
            "    *\n",
            "   ***\n",
            "  *****\n",
            " *******\n",
            "*********\n"
          ],
          "name": "stdout"
        }
      ]
    },
    {
      "cell_type": "code",
      "metadata": {
        "colab": {
          "base_uri": "https://localhost:8080/"
        },
        "id": "eFkBVN5TWkSo",
        "outputId": "65417f76-a942-432a-d474-6807542787b4"
      },
      "source": [
        "# 5\n",
        "for lineNumber in range(1,6):\n",
        "  # 공백찍기 1행 0개, 2행에는 1개\n",
        "  print(' '*(lineNumber-1), end='')\n",
        "  \n",
        "  # 숫자를 1행 -> 5까지 2행은 4까지 \n",
        "  # 6- 행 숫자까지 출력하기\n",
        "  for num in range(1,6-lineNumber +1):\n",
        "    print(num, end='')\n",
        "  print()"
      ],
      "execution_count": null,
      "outputs": [
        {
          "output_type": "stream",
          "text": [
            "12345\n",
            " 1234\n",
            "  123\n",
            "   12\n",
            "    1\n"
          ],
          "name": "stdout"
        }
      ]
    },
    {
      "cell_type": "code",
      "metadata": {
        "colab": {
          "base_uri": "https://localhost:8080/"
        },
        "id": "Y6MFltsmX0bX",
        "outputId": "e1b7618c-c13e-419a-f73f-f20497b07b78"
      },
      "source": [
        "#6\n",
        "for lineNumber in range(1,6):\n",
        "  # 공백찍기 1행 0개, 2행에는 1개\n",
        "  print(' '*(lineNumber-1), end='')\n",
        "  \n",
        "  # 숫자를 1행 -> 5까지 2행은 4까지 \n",
        "  # 6- 행 숫자까지 출력하기\n",
        "  for num in range(1,6-lineNumber +1):\n",
        "    print(num, end='')\n",
        "\n",
        "  # 4321, 321, 32, 1\n",
        "  # 시작: 1행은 4부터 2행은 3부터, 5-행번호\n",
        "  for num in range(5-lineNumber,0,-1):\n",
        "    print(num, end='')\n",
        "  print()"
      ],
      "execution_count": null,
      "outputs": [
        {
          "output_type": "stream",
          "text": [
            "123454321\n",
            " 1234321\n",
            "  12321\n",
            "   121\n",
            "    1\n"
          ],
          "name": "stdout"
        }
      ]
    },
    {
      "cell_type": "code",
      "metadata": {
        "colab": {
          "base_uri": "https://localhost:8080/"
        },
        "id": "oKrgnXWcY0qM",
        "outputId": "b6eaca7e-353e-4534-ba41-e20e64ea9b2f"
      },
      "source": [
        "#p40 - 1\n",
        "\n",
        "score = [100,65,70,80,90]\n",
        "sum = 0\n",
        "for a in score:\n",
        "  sum += a\n",
        "print(sum,sum/len(score))"
      ],
      "execution_count": null,
      "outputs": [
        {
          "output_type": "stream",
          "text": [
            "405 81.0\n"
          ],
          "name": "stdout"
        }
      ]
    },
    {
      "cell_type": "code",
      "metadata": {
        "colab": {
          "base_uri": "https://localhost:8080/"
        },
        "id": "0tFgvWMTY4hc",
        "outputId": "4a2467b9-2452-4be0-8598-627a77a481d8"
      },
      "source": [
        "# p41-2\n",
        "\n",
        "score = [100,65,70,80,90]\n",
        "sum = 0\n",
        "weight = [0.1,0.3,0.2,0.2,0.2]\n",
        "for a in range(5):\n",
        "  sum = sum + score[a] * weight[a]\n",
        "print(sum)"
      ],
      "execution_count": null,
      "outputs": [
        {
          "output_type": "stream",
          "text": [
            "77.5\n"
          ],
          "name": "stdout"
        }
      ]
    },
    {
      "cell_type": "code",
      "metadata": {
        "id": "SJ9HPoKlY4eZ"
      },
      "source": [
        "# p43-3\n",
        "sosulist=[]\n",
        "\n",
        "def sosu(num):\n",
        "  for n in range(num-1):\n",
        "    if num % (n+1) != 0:\n",
        "      sosulist.append(num)\n",
        "      print(sosulist)\n",
        "\n",
        "a=0\n",
        "while True:\n",
        "  sosu(a+1)\n",
        "  a +=1"
      ],
      "execution_count": null,
      "outputs": []
    },
    {
      "cell_type": "code",
      "metadata": {
        "id": "NJGCQI4rvLQM"
      },
      "source": [
        "def checkPrime(number):\n",
        "  소수여부 = True\n",
        "  for 나누기숫자 in range(2,number):\n",
        "    나머지 = number % 나누기숫자 \n",
        "    if 나머지 ==0:\n",
        "      소수여부 = False\n",
        "      break\n",
        "  return 소수여부\n",
        "\n",
        "def getPrimeNum(start,개수):\n",
        "  result =[]\n",
        "  checkNumber = start\n",
        "  while True:\n",
        "    checkResult = checkPrime(checkNumber)\n",
        "    if checkResult == True:\n",
        "      result.append(checkNumber)\n",
        "      if len(result)==개수:\n",
        "        break\n",
        "    checkNumber +=1\n",
        "\n",
        "  return result"
      ],
      "execution_count": null,
      "outputs": []
    },
    {
      "cell_type": "code",
      "metadata": {
        "colab": {
          "base_uri": "https://localhost:8080/"
        },
        "id": "5EC-oOBxxPU4",
        "outputId": "200ed0fd-c526-48b6-d3fa-1d9631b870a2"
      },
      "source": [
        "getPrimeNum(2,10)"
      ],
      "execution_count": null,
      "outputs": [
        {
          "output_type": "execute_result",
          "data": {
            "text/plain": [
              "[2, 3, 5, 7, 11, 13, 17, 19, 23, 29]"
            ]
          },
          "metadata": {
            "tags": []
          },
          "execution_count": 39
        }
      ]
    },
    {
      "cell_type": "code",
      "metadata": {
        "colab": {
          "base_uri": "https://localhost:8080/"
        },
        "id": "zWRikO7aY4cQ",
        "outputId": "8cd963ab-6b2d-46b0-9ad8-dd1b4a9445a8"
      },
      "source": [
        "# p44-4\n",
        "import random\n",
        "\n",
        "a = random.randint(0,100)\n",
        "\n",
        "while True:\n",
        "  x= int(input('정수를 입력하세요: '))\n",
        "  if x>a:\n",
        "    print('down')\n",
        "  if x<a:\n",
        "    print('up')\n",
        "  if x==a:\n",
        "    print('정답!')\n",
        "    break;"
      ],
      "execution_count": null,
      "outputs": [
        {
          "output_type": "stream",
          "text": [
            "정수를 입력하세요4\n",
            "up\n",
            "정수를 입력하세요20\n",
            "정답!\n"
          ],
          "name": "stdout"
        }
      ]
    },
    {
      "cell_type": "code",
      "metadata": {
        "colab": {
          "base_uri": "https://localhost:8080/"
        },
        "id": "NN6a93Z2Y4am",
        "outputId": "37899304-9461-40fa-b373-f4a47721cfeb"
      },
      "source": [
        "# p 45-5\n",
        "\n",
        "win=0\n",
        "lose=0\n",
        "draw=0\n",
        "rock = ['가위','바위','보']\n",
        "while True:\n",
        "  x= input('가위, 바위, 보, 종료 입력하세요:  ')\n",
        "  a = random.choice(rock)\n",
        "  if x=='가위'and a=='가위':\n",
        "    print('draw')\n",
        "    draw+=1\n",
        "  if x=='가위'and a=='바위':\n",
        "    print('win')\n",
        "    win+=1\n",
        "  if x=='가위'and a=='보':\n",
        "    print('lose')\n",
        "    lose+=1\n",
        "  if x=='바위'and a=='가위':\n",
        "    print('lose')\n",
        "    lose+=1\n",
        "  if x=='바위'and a=='바위':\n",
        "    print('draw')\n",
        "    draw+=1\n",
        "  if x=='바위'and a=='보':\n",
        "    print('win')\n",
        "    win+=1\n",
        "  if x=='보'and a=='가위':\n",
        "    print('win')\n",
        "    win+=1\n",
        "  if x=='보'and a=='바위':\n",
        "    print('lose')\n",
        "    lose+=1\n",
        "  if x=='보'and a=='보':\n",
        "    print('draw')\n",
        "    draw+=1\n",
        "  if x=='종료':\n",
        "    print('win:',win, 'draw:',draw,'lose:',lose)\n",
        "    break;\n"
      ],
      "execution_count": null,
      "outputs": [
        {
          "output_type": "stream",
          "text": [
            "가위, 바위, 보, 종료 입력하세요:  바위\n",
            "draw\n",
            "가위, 바위, 보, 종료 입력하세요:  가위\n",
            "win\n",
            "가위, 바위, 보, 종료 입력하세요:  보\n",
            "draw\n",
            "가위, 바위, 보, 종료 입력하세요:  보\n",
            "win\n",
            "가위, 바위, 보, 종료 입력하세요:  종료\n",
            "win: 2 draw: 2 lose: 0\n"
          ],
          "name": "stdout"
        }
      ]
    },
    {
      "cell_type": "code",
      "metadata": {
        "colab": {
          "base_uri": "https://localhost:8080/"
        },
        "id": "8AuLTkf1Y4Xv",
        "outputId": "b330bae1-54d5-42d2-c2ef-0a3466b69846"
      },
      "source": [
        "# 숫자야구\n",
        "\n",
        "# 4자리 숫자를 랜덤하게 정하기\n",
        "  # 중복불가\n",
        "  # 0은 들어가면 안됨\n",
        "  # 일단 4자리 숫자를 만들기\n",
        "    # 함수: 사용해도 되는 4자리 숫자인지 판별 True/False\n",
        "      # 사용해도 되는 숫자면 종료\n",
        "      # 사용하면 안되는 숫자면 다시 랜덤하게 생성\n",
        "    \n",
        "    # 1-9까지 랜덤한 숫자를 만들어서, 문자열 이어 붙이기\n",
        "    # answer =''\n",
        "    # 랜덤하게 숫자를 뽑아서 answer 이어주기\n",
        "      # 랜덤한 숫자는 answer안에 있는 거면 안됨 (중복불가)\n",
        "    \n",
        "    #[1,2,3,4,5,6,7,8,9]\n",
        "    # random.sample()\n",
        "    # random.choice() 해서 answer에 이어붙이기\n",
        "\n",
        "\n",
        "# while True 로 사람이 맞추기 시도\n",
        "  # input\n",
        "  # 판단 (S,B)\n",
        "  # answer ='1234'\n",
        "  # guess ='3456'\n",
        "  # answer[0] guess[0] 비교, 비교해서 하나씩 s,b 숫자 증가\n",
        "    # 만약 4S 면 게임종료\n",
        "import random\n",
        "\n",
        "\n",
        "rannum = [1,2,3,4,5,6,7,8,9]\n",
        "answer = random.sample(rannum,4)\n",
        "answer =[str(number) for number in answer]\n",
        "print(answer)\n",
        "\n",
        "\n",
        "while True:\n",
        "  guess= input('4자리 숫자를 입력해주세요: ')\n",
        "  guess = list(guess)\n",
        "  print(guess)\n",
        "  s=0\n",
        "  b=0\n",
        "  for j in range(4):\n",
        "    if answer[j] == guess[j]:\n",
        "      s += 1\n",
        "    else:\n",
        "      if guess[j] in answer:\n",
        "        b += 1\n",
        "    \n",
        "  print(s,'Strike',b,'Ball')\n",
        "\n",
        "  if s ==4:\n",
        "    print('정답')\n",
        "    break\n",
        "\n",
        "  \n",
        "\n"
      ],
      "execution_count": null,
      "outputs": [
        {
          "output_type": "stream",
          "text": [
            "['1', '9', '2', '6']\n",
            "4자리 숫자를 입력해주세요: 1937\n",
            "['1', '9', '3', '7']\n",
            "2 Strike 0 Ball\n",
            "4자리 숫자를 입력해주세요: 1926\n",
            "['1', '9', '2', '6']\n",
            "4 Strike 0 Ball\n",
            "4 strike\n"
          ],
          "name": "stdout"
        }
      ]
    },
    {
      "cell_type": "code",
      "metadata": {
        "colab": {
          "base_uri": "https://localhost:8080/"
        },
        "id": "A-rprYp0UGJo",
        "outputId": "23d6d3f4-55e0-4d23-fd82-d194d8056e0f"
      },
      "source": [
        "def makeRandomSample():\n",
        "  numbers =[1,2,3,4,5,6,7,8,9]\n",
        "  stringNumbers =[str(number) for number in numbers]\n",
        "  sampleNumbers = random.sample(stringNumbers,4)\n",
        "  print(sampleNumbers)\n",
        "  return sampleNumbers\n",
        "\n",
        "\n",
        "answer = makeRandomSample()\n",
        "while True:\n",
        "  guess = input(\"4자리 숫자를 입력하세요\")\n",
        "  strike =0\n",
        "  ball =0\n",
        "  for i in range(len(answer)):\n",
        "    if answer[i] in guess:\n",
        "      if answer[i] == guess[i]:\n",
        "        strike +=1\n",
        "      else:\n",
        "        ball +=1\n",
        "  print(strike,\"S\",ball,\"B\", sep=\"\")\n",
        "  if strike ==4:\n",
        "    print(\"정답\")\n",
        "    break"
      ],
      "execution_count": null,
      "outputs": [
        {
          "output_type": "stream",
          "text": [
            "['3', '5', '8', '6']\n",
            "4자리 숫자를 입력하세요3567\n",
            "2S1B\n",
            "4자리 숫자를 입력하세요3586\n",
            "4S0B\n",
            "정답\n"
          ],
          "name": "stdout"
        }
      ]
    },
    {
      "cell_type": "code",
      "metadata": {
        "id": "Bnt1rju3Y4V8"
      },
      "source": [
        ""
      ],
      "execution_count": null,
      "outputs": []
    },
    {
      "cell_type": "code",
      "metadata": {
        "id": "U47E0UESY4Th"
      },
      "source": [
        ""
      ],
      "execution_count": null,
      "outputs": []
    },
    {
      "cell_type": "code",
      "metadata": {
        "id": "FXLG0q8zY4O5"
      },
      "source": [
        ""
      ],
      "execution_count": null,
      "outputs": []
    },
    {
      "cell_type": "code",
      "metadata": {
        "id": "whbnI9EoY4Ml"
      },
      "source": [
        ""
      ],
      "execution_count": null,
      "outputs": []
    },
    {
      "cell_type": "code",
      "metadata": {
        "id": "Og_DGB7eY4KP"
      },
      "source": [
        ""
      ],
      "execution_count": null,
      "outputs": []
    },
    {
      "cell_type": "code",
      "metadata": {
        "id": "KRhDkYweY4IB"
      },
      "source": [
        ""
      ],
      "execution_count": null,
      "outputs": []
    },
    {
      "cell_type": "code",
      "metadata": {
        "id": "bTlqDQngY4FP"
      },
      "source": [
        ""
      ],
      "execution_count": null,
      "outputs": []
    },
    {
      "cell_type": "code",
      "metadata": {
        "id": "k6xBwGrzY4CP"
      },
      "source": [
        ""
      ],
      "execution_count": null,
      "outputs": []
    },
    {
      "cell_type": "code",
      "metadata": {
        "id": "tnmi_Q89Y3tL"
      },
      "source": [
        ""
      ],
      "execution_count": null,
      "outputs": []
    }
  ]
}