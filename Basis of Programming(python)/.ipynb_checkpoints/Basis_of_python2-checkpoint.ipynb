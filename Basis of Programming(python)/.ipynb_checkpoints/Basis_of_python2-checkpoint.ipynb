{
 "cells": [
  {
   "cell_type": "code",
   "execution_count": 6,
   "metadata": {
    "colab": {
     "base_uri": "https://localhost:8080/"
    },
    "id": "7TTIe37OaXiC",
    "outputId": "ed64f78b-ce19-4908-e2b5-7b271027eb04"
   },
   "outputs": [
    {
     "name": "stdout",
     "output_type": "stream",
     "text": [
      "dddd\n",
      "dddd2\n"
     ]
    }
   ],
   "source": [
    "# w용도로 열고 f로 해라, 덮어쓰기 됨 -> append 로 옵션 변경 # \"a\"\n",
    "with open(\"test.txt\",\"w\", encoding=\"utf8\") as f: \n",
    "  f.write('dddd\\n')\n",
    "  f.write('dddd2\\n')\n",
    "\n",
    "# read는 r 옵션\n",
    "\n",
    "with open(\"test.txt\",\"r\",encoding=\"utf8\") as f:\n",
    "  for line in f:\n",
    "    print(line, end=\"\")"
   ]
  },
  {
   "cell_type": "code",
   "execution_count": 7,
   "metadata": {
    "colab": {
     "base_uri": "https://localhost:8080/"
    },
    "id": "r1xnpVTgiaMi",
    "outputId": "7a01a316-9fdc-4ca5-f88b-64455720557b"
   },
   "outputs": [
    {
     "name": "stdout",
     "output_type": "stream",
     "text": [
      "dddd\n",
      "dddd2\n",
      "에러가 났습니다. 파일이 없습니다.\n"
     ]
    }
   ],
   "source": [
    "fileList =[\"test.txt\",\"test2.txt\"]\n",
    "for fileName in fileList:\n",
    "  try:\n",
    "    with open(fileName,'r', encoding='utf8') as f:\n",
    "      for line in f:\n",
    "        print(line, end='')\n",
    "  except:\n",
    "    print(\"에러가 났습니다. 파일이 없습니다.\")\n"
   ]
  },
  {
   "cell_type": "code",
   "execution_count": 8,
   "metadata": {
    "colab": {
     "base_uri": "https://localhost:8080/"
    },
    "id": "_6c50sm2jO8i",
    "outputId": "5bce93e5-b1f9-46cb-9b0a-8dfc3f5a6b4c"
   },
   "outputs": [
    {
     "name": "stdout",
     "output_type": "stream",
     "text": [
      "2021-07-01 01:03:57.493415\n",
      "2021-07-01\n",
      "01:03:57.493415\n",
      "01.07.21\n",
      "01.07.2021\n",
      "2021-06-30 00:00:00\n"
     ]
    }
   ],
   "source": [
    "from datetime import datetime as dt\n",
    "nowTime = dt.now()\n",
    "print(nowTime)\n",
    "print(nowTime.date())\n",
    "print(nowTime.time())\n",
    "print(nowTime.strftime(\"%d.%m.%y\"))\n",
    "print(nowTime.strftime(\"%d.%m.%Y\"))\n",
    "\n",
    "timeString='30/6/2021'\n",
    "parsedTime = dt.strptime(timeString, \"%d/%m/%Y\")\n",
    "print(parsedTime)\n"
   ]
  },
  {
   "cell_type": "code",
   "execution_count": 9,
   "metadata": {
    "colab": {
     "base_uri": "https://localhost:8080/"
    },
    "id": "RpN8GDk5lJlU",
    "outputId": "8477b7a0-a9bb-4c66-db01-e3b3a6c3ce95"
   },
   "outputs": [
    {
     "name": "stdout",
     "output_type": "stream",
     "text": [
      "2020-02-02\n",
      "2020-02-03\n",
      "2020-02-04\n",
      "2020-02-05\n",
      "2020-02-06\n"
     ]
    }
   ],
   "source": [
    "from datetime import timedelta\n",
    "date = dt(2020, 2, 1)\n",
    "for i in range(5):\n",
    "  date += timedelta(days=1)\n",
    "  print(date.date())"
   ]
  },
  {
   "cell_type": "code",
   "execution_count": 10,
   "metadata": {
    "colab": {
     "base_uri": "https://localhost:8080/"
    },
    "id": "okNskQeeoANv",
    "outputId": "af84c757-e067-4b56-b376-b365d0a17fc2"
   },
   "outputs": [
    {
     "name": "stdout",
     "output_type": "stream",
     "text": [
      "The United States reported more than 48,400 new coronavirus cases on Wednesday, the fifth single-day case record in eight days. North Carolina, Tennessee and Texas hit daily records, with Texas reaching more than 8,000 new infections.\n",
      "\n",
      "As new cases rise, states and localities have reversed course on reopenings. New York City decided not to let its restaurants resume indoor service next week as originally planned. Miami Beach said that it would reinstate a nightly curfew beginning Thursday at 12:30 a.m., extending until 5 a.m., to try to curb the spread. And California shut down bars and halted indoor dining at restaurants in 19 counties that are home to more than 70 percent of the state’s population.\n",
      "\n",
      "New outbreaks are erupting in the South and West, and areas that have made progress against the virus are showing signs of resurgence. Several Republican-led states that moved quickly to reopen this spring at the urging of President Trump are now reimposing some restrictions.\n",
      "\n",
      "Arizona, which Mr. Trump visited in May and praised for its reopening plans, is now seeing record numbers of new cases, and Gov. Doug Ducey decided this week to close its water parks and to order bars, gyms and movie theaters in the state to close for 30 days. On Wednesday, Vice President Mike Pence visited Arizona to discuss the crisis as the state reported more than 4,700 new cases.\n",
      "\n",
      "California, which was the first state to shut down and which took some of the most aggressive actions to contain the virus, has seen a recent explosion in cases after it eased restrictions, leading the governor to move Wednesday to close bars and halt indoor dining in much of the state.\n",
      "\n",
      "Mr. Pence told Mr. Ducey that the federal government would help the state with a request for 500 additional public health personnel by mobilizing doctors, nurses and technical personnel.\n",
      "\n",
      "And in Florida, which had more than 6,500 new cases on Wednesday, Miami’s biggest public hospital announced that it would stop non-urgent elective surgeries as of Monday. The caseload at the hospital, Jackson Memorial, has doubled over the past two weeks.\n",
      "\n",
      "Surging infection rates have thrown Texas cities into crisis mode just days before the July Fourth weekend. The state has recorded more than 174,000 cases and at least 2,500 deaths, according to a New York Times database. More than 8,000 new cases were announced across Texas on Wednesday, surpassing the previous daily record set on Tuesday.\n",
      "\n",
      "With some hospitals near capacity, officials have been forced to bring in health care reinforcements from out of state. Ambulances in Houston have been waiting up to an hour to unload patients at emergency rooms, officials said.\n",
      "\n",
      "The Texas Republican Executive Committee will meet Thursday night to consider shifting its in-person state convention in July to a virtual event,  said the state party chairman, James Dickey. The Texas Medical Association has called for cancellation of the Houston event, which could draw 4,000 to 6,000 delegates.\n",
      "\n",
      "Some conservatives and libertarians have made opposition to masks a political cause, but, as cases surge, a growing number of Republican governors are trying to send a different message.\n",
      "\n",
      "The new entreaties follow months of misinformation, debate and confusion about the question of wearing a mask. Early in the pandemic, government officials instructed Americans not to buy or wear masks. In April, they revised that guidance, advising that cloth face coverings were recommended.\n",
      "\n",
      "On Monday, Gov. Brian Kemp of Georgia posted a selfie wearing a mask decorated with the University of Georgia’s bulldog mascot. \"Wear your mask, Georgia — and go Dawgs!\" he wrote. Senator Mitch McConnell of Kentucky, who regularly wears a mask in public, said in Washington this week that there must be \"no stigma\" about wearing masks."
     ]
    }
   ],
   "source": [
    "with open(\"nytimes.txt\",\"r\", encoding=\"utf8\") as f: \n",
    "  for line in f:\n",
    "        print(line, end='')"
   ]
  },
  {
   "cell_type": "code",
   "execution_count": 11,
   "metadata": {
    "id": "qwhnnDzkonLH"
   },
   "outputs": [],
   "source": [
    "# 해당 텍스트 파일을 읽고, 다음 작업들을 거친 후 변수에 저장\n",
    "# • 다음 문자들 제거 : 개행(\\n), 마침표(.), 쉼표(,), 쌍따옴표(“\\””)\n",
    "# • 소문자화\n",
    "# • 새로운 변수에 위 문자열을 공백으로 분리\n",
    "# • Dictionary 변수를 만들고 반복문을 통해 다음 내용을 저장\n",
    "# • Key에는 나온 단어, value에는 단어가 나온 횟수\n",
    "\n",
    "with open(\"nytimes.txt\",\"r\", encoding=\"utf8\") as f: \n",
    "  for line in f:\n",
    "      a=line.replace('\\n',\"\")\n",
    "      a=line.replace('.',\"\")\n",
    "      a=line.replace(',',\"\")\n",
    "      a=line.replace('\"',\"\")\n",
    "      a=line.split(\" \")\n",
    "\n",
    "# dic = {}\n",
    "# for a in a:\n",
    "#   dic[a]="
   ]
  },
  {
   "cell_type": "code",
   "execution_count": 12,
   "metadata": {
    "id": "Xz4ZQUSzooUW"
   },
   "outputs": [],
   "source": [
    "import openpyxl"
   ]
  },
  {
   "cell_type": "code",
   "execution_count": 13,
   "metadata": {
    "id": "_ecMUfK5ooWD"
   },
   "outputs": [],
   "source": [
    "import pandas as pd"
   ]
  },
  {
   "cell_type": "code",
   "execution_count": 14,
   "metadata": {
    "colab": {
     "base_uri": "https://localhost:8080/",
     "height": 419
    },
    "id": "dSc_giI2ooYc",
    "outputId": "5ba6e907-63f4-44ea-ca16-db9d28a1b193"
   },
   "outputs": [
    {
     "data": {
      "text/html": [
       "<div>\n",
       "<style scoped>\n",
       "    .dataframe tbody tr th:only-of-type {\n",
       "        vertical-align: middle;\n",
       "    }\n",
       "\n",
       "    .dataframe tbody tr th {\n",
       "        vertical-align: top;\n",
       "    }\n",
       "\n",
       "    .dataframe thead th {\n",
       "        text-align: right;\n",
       "    }\n",
       "</style>\n",
       "<table border=\"1\" class=\"dataframe\">\n",
       "  <thead>\n",
       "    <tr style=\"text-align: right;\">\n",
       "      <th></th>\n",
       "      <th>상호명</th>\n",
       "      <th>업종명(종목명)</th>\n",
       "      <th>소재지도로명주소</th>\n",
       "    </tr>\n",
       "  </thead>\n",
       "  <tbody>\n",
       "    <tr>\n",
       "      <th>0</th>\n",
       "      <td>성경식품</td>\n",
       "      <td>음료식품-기타음료식품</td>\n",
       "      <td>경기 과천시 상하벌로 50(과천동)</td>\n",
       "    </tr>\n",
       "    <tr>\n",
       "      <th>1</th>\n",
       "      <td>성림농원</td>\n",
       "      <td>문화.취미-화원</td>\n",
       "      <td>경기 과천시 물사랑로 241남서울화훼 B-11호(주암동)</td>\n",
       "    </tr>\n",
       "    <tr>\n",
       "      <th>2</th>\n",
       "      <td>성모 미용실</td>\n",
       "      <td>보건위생-미용원</td>\n",
       "      <td>경기 과천시 별양로 12,B동 1102호 (원문동,래미안슈르)</td>\n",
       "    </tr>\n",
       "    <tr>\n",
       "      <th>3</th>\n",
       "      <td>성창종합철물</td>\n",
       "      <td>건축자재-목재?석재?철물</td>\n",
       "      <td>경기 과천시 꿈보람길 34연아유치원상가 101호(별양동)</td>\n",
       "    </tr>\n",
       "    <tr>\n",
       "      <th>4</th>\n",
       "      <td>세레니끄과천점</td>\n",
       "      <td>보건위생-화장품</td>\n",
       "      <td>경기 과천시 별양로 28D상가 2001호 (원문동)</td>\n",
       "    </tr>\n",
       "    <tr>\n",
       "      <th>...</th>\n",
       "      <td>...</td>\n",
       "      <td>...</td>\n",
       "      <td>...</td>\n",
       "    </tr>\n",
       "    <tr>\n",
       "      <th>95</th>\n",
       "      <td>초롱플라워</td>\n",
       "      <td>문화.취미-화원</td>\n",
       "      <td>경기 과천시 물사랑로 241B동 24호(주암동)</td>\n",
       "    </tr>\n",
       "    <tr>\n",
       "      <th>96</th>\n",
       "      <td>춘농원</td>\n",
       "      <td>문화.취미-화원</td>\n",
       "      <td>경기 과천시 경마공원대로 102(과천동)</td>\n",
       "    </tr>\n",
       "    <tr>\n",
       "      <th>97</th>\n",
       "      <td>치킨마루</td>\n",
       "      <td>일반휴게음식-주점</td>\n",
       "      <td>경기 과천시 문원청계길 22일부(문원동)</td>\n",
       "    </tr>\n",
       "    <tr>\n",
       "      <th>98</th>\n",
       "      <td>아름다운화원</td>\n",
       "      <td>문화.취미-화원</td>\n",
       "      <td>경기 과천시 삼현로 77-41(갈현동)</td>\n",
       "    </tr>\n",
       "    <tr>\n",
       "      <th>99</th>\n",
       "      <td>아리따움</td>\n",
       "      <td>보건위생-화장품</td>\n",
       "      <td>경기 과천시 별양상가1로 101층 106호(별양동, 과천타워)</td>\n",
       "    </tr>\n",
       "  </tbody>\n",
       "</table>\n",
       "<p>100 rows × 3 columns</p>\n",
       "</div>"
      ],
      "text/plain": [
       "        상호명       업종명(종목명)                            소재지도로명주소\n",
       "0      성경식품    음료식품-기타음료식품                 경기 과천시 상하벌로 50(과천동)\n",
       "1      성림농원       문화.취미-화원     경기 과천시 물사랑로 241남서울화훼 B-11호(주암동)\n",
       "2    성모 미용실       보건위생-미용원  경기 과천시 별양로 12,B동 1102호 (원문동,래미안슈르)\n",
       "3    성창종합철물  건축자재-목재?석재?철물     경기 과천시 꿈보람길 34연아유치원상가 101호(별양동)\n",
       "4   세레니끄과천점       보건위생-화장품        경기 과천시 별양로 28D상가 2001호 (원문동)\n",
       "..      ...            ...                                 ...\n",
       "95    초롱플라워       문화.취미-화원          경기 과천시 물사랑로 241B동 24호(주암동)\n",
       "96      춘농원       문화.취미-화원              경기 과천시 경마공원대로 102(과천동)\n",
       "97     치킨마루      일반휴게음식-주점              경기 과천시 문원청계길 22일부(문원동)\n",
       "98   아름다운화원       문화.취미-화원               경기 과천시 삼현로 77-41(갈현동)\n",
       "99     아리따움       보건위생-화장품  경기 과천시 별양상가1로 101층 106호(별양동, 과천타워)\n",
       "\n",
       "[100 rows x 3 columns]"
      ]
     },
     "execution_count": 14,
     "metadata": {
      "tags": []
     },
     "output_type": "execute_result"
    }
   ],
   "source": [
    "excelDF = pd.read_excel(\"/content/address.xlsx\")\n",
    "excelDF"
   ]
  },
  {
   "cell_type": "code",
   "execution_count": 15,
   "metadata": {
    "colab": {
     "base_uri": "https://localhost:8080/"
    },
    "id": "Boa90AC0ooal",
    "outputId": "af9784a3-ca38-47c7-ffc2-9e0afa817f3b"
   },
   "outputs": [
    {
     "name": "stdout",
     "output_type": "stream",
     "text": [
      "<Response [200]>\n",
      "{\"documents\":[{\"address\":{\"address_name\":\"경기 과천시 별양동 13\",\"b_code\":\"4129010900\",\"h_code\":\"4129053000\",\"main_address_no\":\"13\",\"mountain_yn\":\"N\",\"region_1depth_name\":\"경기\",\"region_2depth_name\":\"과천시\",\"region_3depth_h_name\":\"별양동\",\"region_3depth_name\":\"별양동\",\"sub_address_no\":\"\",\"x\":\"126.993978608765\",\"y\":\"37.4244751958748\"},\"address_name\":\"경기 과천시 별양로 64\",\"address_type\":\"ROAD_ADDR\",\"road_address\":{\"address_name\":\"경기 과천시 별양로 64\",\"building_name\":\"3단지병원상가\",\"main_building_no\":\"64\",\"region_1depth_name\":\"경기\",\"region_2depth_name\":\"과천시\",\"region_3depth_name\":\"별양동\",\"road_name\":\"별양로\",\"sub_building_no\":\"\",\"underground_yn\":\"N\",\"x\":\"126.993978608765\",\"y\":\"37.4244751958748\",\"zone_no\":\"13834\"},\"x\":\"126.993978608765\",\"y\":\"37.4244751958748\"}],\"meta\":{\"is_end\":true,\"pageable_count\":1,\"total_count\":1}}\n",
      "{'documents': [{'address': {'address_name': '경기 과천시 별양동 13', 'b_code': '4129010900', 'h_code': '4129053000', 'main_address_no': '13', 'mountain_yn': 'N', 'region_1depth_name': '경기', 'region_2depth_name': '과천시', 'region_3depth_h_name': '별양동', 'region_3depth_name': '별양동', 'sub_address_no': '', 'x': '126.993978608765', 'y': '37.4244751958748'}, 'address_name': '경기 과천시 별양로 64', 'address_type': 'ROAD_ADDR', 'road_address': {'address_name': '경기 과천시 별양로 64', 'building_name': '3단지병원상가', 'main_building_no': '64', 'region_1depth_name': '경기', 'region_2depth_name': '과천시', 'region_3depth_name': '별양동', 'road_name': '별양로', 'sub_building_no': '', 'underground_yn': 'N', 'x': '126.993978608765', 'y': '37.4244751958748', 'zone_no': '13834'}, 'x': '126.993978608765', 'y': '37.4244751958748'}], 'meta': {'is_end': True, 'pageable_count': 1, 'total_count': 1}}\n",
      "{\n",
      "    \"documents\": [\n",
      "        {\n",
      "            \"address\": {\n",
      "                \"address_name\": \"경기 과천시 별양동 13\",\n",
      "                \"b_code\": \"4129010900\",\n",
      "                \"h_code\": \"4129053000\",\n",
      "                \"main_address_no\": \"13\",\n",
      "                \"mountain_yn\": \"N\",\n",
      "                \"region_1depth_name\": \"경기\",\n",
      "                \"region_2depth_name\": \"과천시\",\n",
      "                \"region_3depth_h_name\": \"별양동\",\n",
      "                \"region_3depth_name\": \"별양동\",\n",
      "                \"sub_address_no\": \"\",\n",
      "                \"x\": \"126.993978608765\",\n",
      "                \"y\": \"37.4244751958748\"\n",
      "            },\n",
      "            \"address_name\": \"경기 과천시 별양로 64\",\n",
      "            \"address_type\": \"ROAD_ADDR\",\n",
      "            \"road_address\": {\n",
      "                \"address_name\": \"경기 과천시 별양로 64\",\n",
      "                \"building_name\": \"3단지병원상가\",\n",
      "                \"main_building_no\": \"64\",\n",
      "                \"region_1depth_name\": \"경기\",\n",
      "                \"region_2depth_name\": \"과천시\",\n",
      "                \"region_3depth_name\": \"별양동\",\n",
      "                \"road_name\": \"별양로\",\n",
      "                \"sub_building_no\": \"\",\n",
      "                \"underground_yn\": \"N\",\n",
      "                \"x\": \"126.993978608765\",\n",
      "                \"y\": \"37.4244751958748\",\n",
      "                \"zone_no\": \"13834\"\n",
      "            },\n",
      "            \"x\": \"126.993978608765\",\n",
      "            \"y\": \"37.4244751958748\"\n",
      "        }\n",
      "    ],\n",
      "    \"meta\": {\n",
      "        \"is_end\": true,\n",
      "        \"pageable_count\": 1,\n",
      "        \"total_count\": 1\n",
      "    }\n",
      "}\n"
     ]
    }
   ],
   "source": [
    "import requests\n",
    "import tqdm\n",
    "import json\n",
    "\n",
    "url='https://dapi.kakao.com/v2/local/search/address.json'\n",
    "apikey='1ae692ba67d4ee688cf41c24d86f9f04'\n",
    "headers ={\"Authorization\": \"KakaoAK \"+ apikey}\n",
    "parameters = {\"query\":\"경기 과천시 별양로 64(별양동\"} # for문으로 주소 바꿔주기\n",
    "\n",
    "response = requests.get(url, headers=headers, params = parameters)\n",
    "print(response)\n",
    "print(response.text)\n",
    "jsonResponse = json.loads(response.text)\n",
    "print(jsonResponse)\n",
    "# indent는 줄바꿈, ensure_ascii 는 한글 때문에\n",
    "prettyjson= json.dumps(jsonResponse, indent=4, ensure_ascii=False)\n",
    "print(prettyjson)"
   ]
  },
  {
   "cell_type": "code",
   "execution_count": 16,
   "metadata": {
    "colab": {
     "base_uri": "https://localhost:8080/"
    },
    "id": "LS6EV3Q-ooci",
    "outputId": "67fa29ce-5666-443a-8b1e-8e2be553f326"
   },
   "outputs": [
    {
     "name": "stdout",
     "output_type": "stream",
     "text": [
      "{'is_end': True, 'pageable_count': 1, 'total_count': 1}\n"
     ]
    }
   ],
   "source": [
    "print(jsonResponse['meta'])"
   ]
  },
  {
   "cell_type": "code",
   "execution_count": 17,
   "metadata": {
    "id": "D9uXipnboofB"
   },
   "outputs": [],
   "source": [
    "from tqdm.notebook import tqdm # jupyter notebook일 경우\n",
    "import time"
   ]
  },
  {
   "cell_type": "code",
   "execution_count": 18,
   "metadata": {
    "colab": {
     "base_uri": "https://localhost:8080/",
     "height": 168,
     "referenced_widgets": [
      "ae4e93aa0748408f81bd241a4fdd921d",
      "6b3c78b9cdbc4d2482ffcc9ee38cadcf",
      "e28283894e234c309d0cc45bdc65847e",
      "2215076e6805479c8527e3881f64bddd",
      "87935fe477d844239306e2d578f8d83f",
      "39b151dd2ad7460c8a23fb395947ac26",
      "dff53dde4940497ebe42b9bb5135406d",
      "fbfc3ee8b4174f40b2e5eae01dcb190e"
     ]
    },
    "id": "mslY2ss6oohC",
    "outputId": "73a0bbd7-9b76-4a11-f566-2124f2258d6c"
   },
   "outputs": [
    {
     "data": {
      "application/vnd.jupyter.widget-view+json": {
       "model_id": "ae4e93aa0748408f81bd241a4fdd921d",
       "version_major": 2,
       "version_minor": 0
      },
      "text/plain": [
       "HBox(children=(FloatProgress(value=0.0, max=6.0), HTML(value='')))"
      ]
     },
     "metadata": {
      "tags": []
     },
     "output_type": "display_data"
    },
    {
     "name": "stdout",
     "output_type": "stream",
     "text": [
      "0\n",
      "1\n",
      "2\n",
      "3\n",
      "4\n",
      "5\n",
      "\n"
     ]
    }
   ],
   "source": [
    "# 긴 데이터분석할때 시간 예측\n",
    "for i in tqdm(range(6)):\n",
    "  time.sleep(1)\n",
    "  print(i)"
   ]
  },
  {
   "cell_type": "code",
   "execution_count": 18,
   "metadata": {
    "id": "GMhNa5c4DJLv"
   },
   "outputs": [],
   "source": []
  },
  {
   "cell_type": "code",
   "execution_count": 19,
   "metadata": {
    "colab": {
     "base_uri": "https://localhost:8080/",
     "height": 66,
     "referenced_widgets": [
      "5bcd227ad9ab4160ae0e3ec53c17c72f",
      "d3c6cf9faa1a4fafa3afd30d48d3e3d3",
      "cda6345f0eca4f5590c8f74e9a5d1c1b",
      "668a619f57ae4ab4861ad66f7a510c8f",
      "c49aa091cad5417f9c5c6cc6bbab7a70",
      "6ac2de411e3045feaa246122a0256597",
      "bdde11f9eee843538fbcc1fb082e8871",
      "f29f5768bddc4ec9ae6113fd0413e5f7"
     ]
    },
    "id": "o_nvwX-Tooiy",
    "outputId": "8aa609d1-a9f3-4067-913d-e6a03de3bdda"
   },
   "outputs": [
    {
     "data": {
      "application/vnd.jupyter.widget-view+json": {
       "model_id": "5bcd227ad9ab4160ae0e3ec53c17c72f",
       "version_major": 2,
       "version_minor": 0
      },
      "text/plain": [
       "HBox(children=(FloatProgress(value=1.0, bar_style='info', max=1.0), HTML(value='')))"
      ]
     },
     "metadata": {
      "tags": []
     },
     "output_type": "display_data"
    },
    {
     "name": "stdout",
     "output_type": "stream",
     "text": [
      "\n"
     ]
    }
   ],
   "source": [
    "url='https://dapi.kakao.com/v2/local/search/address.json'\n",
    "apikey='1ae692ba67d4ee688cf41c24d86f9f04'\n",
    "headers ={\"Authorization\": \"KakaoAK \"+ apikey}\n",
    "latitude=[]\n",
    "longitude=[]\n",
    "\n",
    "for row in tqdm(excelDF.itertuples()):\n",
    "  # parameters 설정\n",
    "  parameters = {\"query\":row.소재지도로명주소} # for문으로 주소 바꿔주기\n",
    "  \n",
    "  # 데이터 불러오기\n",
    "  response = requests.get(url, headers=headers, params = parameters)\n",
    "  jsonResponse = json.loads(response.text)\n",
    "  \n",
    "  # 위도, 경도 리스트에 추가\n",
    "\n",
    "\n",
    "  if len(jsonResponse[\"documents\"])==0:\n",
    "    latitude.append(0)\n",
    "    longitude.append(0)\n",
    "  else:\n",
    "    latitude.append(jsonResponse[\"documents\"][0][\"address\"][\"x\"])\n",
    "    longitude.append(jsonResponse[\"documents\"][0][\"address\"][\"y\"])\n",
    "\n",
    "excelDF['위도']= latitude\n",
    "excelDF['경도']= longitude"
   ]
  },
  {
   "cell_type": "code",
   "execution_count": 20,
   "metadata": {
    "colab": {
     "base_uri": "https://localhost:8080/",
     "height": 419
    },
    "id": "rPfAnDfcGZpz",
    "outputId": "52a23e27-0444-4bc2-a390-734e2841f0e2"
   },
   "outputs": [
    {
     "data": {
      "text/html": [
       "<div>\n",
       "<style scoped>\n",
       "    .dataframe tbody tr th:only-of-type {\n",
       "        vertical-align: middle;\n",
       "    }\n",
       "\n",
       "    .dataframe tbody tr th {\n",
       "        vertical-align: top;\n",
       "    }\n",
       "\n",
       "    .dataframe thead th {\n",
       "        text-align: right;\n",
       "    }\n",
       "</style>\n",
       "<table border=\"1\" class=\"dataframe\">\n",
       "  <thead>\n",
       "    <tr style=\"text-align: right;\">\n",
       "      <th></th>\n",
       "      <th>상호명</th>\n",
       "      <th>업종명(종목명)</th>\n",
       "      <th>소재지도로명주소</th>\n",
       "      <th>위도</th>\n",
       "      <th>경도</th>\n",
       "    </tr>\n",
       "  </thead>\n",
       "  <tbody>\n",
       "    <tr>\n",
       "      <th>0</th>\n",
       "      <td>성경식품</td>\n",
       "      <td>음료식품-기타음료식품</td>\n",
       "      <td>경기 과천시 상하벌로 50(과천동)</td>\n",
       "      <td>127.00215179267</td>\n",
       "      <td>37.4460631328845</td>\n",
       "    </tr>\n",
       "    <tr>\n",
       "      <th>1</th>\n",
       "      <td>성림농원</td>\n",
       "      <td>문화.취미-화원</td>\n",
       "      <td>경기 과천시 물사랑로 241남서울화훼 B-11호(주암동)</td>\n",
       "      <td>127.029400842818</td>\n",
       "      <td>37.4588101863177</td>\n",
       "    </tr>\n",
       "    <tr>\n",
       "      <th>2</th>\n",
       "      <td>성모 미용실</td>\n",
       "      <td>보건위생-미용원</td>\n",
       "      <td>경기 과천시 별양로 12,B동 1102호 (원문동,래미안슈르)</td>\n",
       "      <td>126.993521744239</td>\n",
       "      <td>37.4230461575258</td>\n",
       "    </tr>\n",
       "    <tr>\n",
       "      <th>3</th>\n",
       "      <td>성창종합철물</td>\n",
       "      <td>건축자재-목재?석재?철물</td>\n",
       "      <td>경기 과천시 꿈보람길 34연아유치원상가 101호(별양동)</td>\n",
       "      <td>126.996323308045</td>\n",
       "      <td>37.4314717802066</td>\n",
       "    </tr>\n",
       "    <tr>\n",
       "      <th>4</th>\n",
       "      <td>세레니끄과천점</td>\n",
       "      <td>보건위생-화장품</td>\n",
       "      <td>경기 과천시 별양로 28D상가 2001호 (원문동)</td>\n",
       "      <td>126.991242601845</td>\n",
       "      <td>37.4211854985339</td>\n",
       "    </tr>\n",
       "    <tr>\n",
       "      <th>...</th>\n",
       "      <td>...</td>\n",
       "      <td>...</td>\n",
       "      <td>...</td>\n",
       "      <td>...</td>\n",
       "      <td>...</td>\n",
       "    </tr>\n",
       "    <tr>\n",
       "      <th>95</th>\n",
       "      <td>초롱플라워</td>\n",
       "      <td>문화.취미-화원</td>\n",
       "      <td>경기 과천시 물사랑로 241B동 24호(주암동)</td>\n",
       "      <td>127.029400842818</td>\n",
       "      <td>37.4588101863177</td>\n",
       "    </tr>\n",
       "    <tr>\n",
       "      <th>96</th>\n",
       "      <td>춘농원</td>\n",
       "      <td>문화.취미-화원</td>\n",
       "      <td>경기 과천시 경마공원대로 102(과천동)</td>\n",
       "      <td>127.007148959502</td>\n",
       "      <td>37.4442030621116</td>\n",
       "    </tr>\n",
       "    <tr>\n",
       "      <th>97</th>\n",
       "      <td>치킨마루</td>\n",
       "      <td>일반휴게음식-주점</td>\n",
       "      <td>경기 과천시 문원청계길 22일부(문원동)</td>\n",
       "      <td>127.009419241556</td>\n",
       "      <td>37.4243649597131</td>\n",
       "    </tr>\n",
       "    <tr>\n",
       "      <th>98</th>\n",
       "      <td>아름다운화원</td>\n",
       "      <td>문화.취미-화원</td>\n",
       "      <td>경기 과천시 삼현로 77-41(갈현동)</td>\n",
       "      <td>0</td>\n",
       "      <td>0</td>\n",
       "    </tr>\n",
       "    <tr>\n",
       "      <th>99</th>\n",
       "      <td>아리따움</td>\n",
       "      <td>보건위생-화장품</td>\n",
       "      <td>경기 과천시 별양상가1로 101층 106호(별양동, 과천타워)</td>\n",
       "      <td>0</td>\n",
       "      <td>0</td>\n",
       "    </tr>\n",
       "  </tbody>\n",
       "</table>\n",
       "<p>100 rows × 5 columns</p>\n",
       "</div>"
      ],
      "text/plain": [
       "        상호명       업종명(종목명)  ...                위도                경도\n",
       "0      성경식품    음료식품-기타음료식품  ...   127.00215179267  37.4460631328845\n",
       "1      성림농원       문화.취미-화원  ...  127.029400842818  37.4588101863177\n",
       "2    성모 미용실       보건위생-미용원  ...  126.993521744239  37.4230461575258\n",
       "3    성창종합철물  건축자재-목재?석재?철물  ...  126.996323308045  37.4314717802066\n",
       "4   세레니끄과천점       보건위생-화장품  ...  126.991242601845  37.4211854985339\n",
       "..      ...            ...  ...               ...               ...\n",
       "95    초롱플라워       문화.취미-화원  ...  127.029400842818  37.4588101863177\n",
       "96      춘농원       문화.취미-화원  ...  127.007148959502  37.4442030621116\n",
       "97     치킨마루      일반휴게음식-주점  ...  127.009419241556  37.4243649597131\n",
       "98   아름다운화원       문화.취미-화원  ...                 0                 0\n",
       "99     아리따움       보건위생-화장품  ...                 0                 0\n",
       "\n",
       "[100 rows x 5 columns]"
      ]
     },
     "execution_count": 20,
     "metadata": {
      "tags": []
     },
     "output_type": "execute_result"
    }
   ],
   "source": [
    "excelDF"
   ]
  }
 ],
 "metadata": {
  "colab": {
   "authorship_tag": "ABX9TyOMqRy0eEgDiZN4+pCZPKXU",
   "collapsed_sections": [],
   "name": "데청캠day3.ipynb",
   "provenance": []
  },
  "kernelspec": {
   "display_name": "Python 3",
   "language": "python",
   "name": "python3"
  },
  "language_info": {
   "codemirror_mode": {
    "name": "ipython",
    "version": 3
   },
   "file_extension": ".py",
   "mimetype": "text/x-python",
   "name": "python",
   "nbconvert_exporter": "python",
   "pygments_lexer": "ipython3",
   "version": "3.8.8"
  },
  "widgets": {
   "application/vnd.jupyter.widget-state+json": {
    "2215076e6805479c8527e3881f64bddd": {
     "model_module": "@jupyter-widgets/controls",
     "model_name": "HTMLModel",
     "state": {
      "_dom_classes": [],
      "_model_module": "@jupyter-widgets/controls",
      "_model_module_version": "1.5.0",
      "_model_name": "HTMLModel",
      "_view_count": null,
      "_view_module": "@jupyter-widgets/controls",
      "_view_module_version": "1.5.0",
      "_view_name": "HTMLView",
      "description": "",
      "description_tooltip": null,
      "layout": "IPY_MODEL_fbfc3ee8b4174f40b2e5eae01dcb190e",
      "placeholder": "​",
      "style": "IPY_MODEL_dff53dde4940497ebe42b9bb5135406d",
      "value": " 6/6 [00:06&lt;00:00,  1.01s/it]"
     }
    },
    "39b151dd2ad7460c8a23fb395947ac26": {
     "model_module": "@jupyter-widgets/base",
     "model_name": "LayoutModel",
     "state": {
      "_model_module": "@jupyter-widgets/base",
      "_model_module_version": "1.2.0",
      "_model_name": "LayoutModel",
      "_view_count": null,
      "_view_module": "@jupyter-widgets/base",
      "_view_module_version": "1.2.0",
      "_view_name": "LayoutView",
      "align_content": null,
      "align_items": null,
      "align_self": null,
      "border": null,
      "bottom": null,
      "display": null,
      "flex": null,
      "flex_flow": null,
      "grid_area": null,
      "grid_auto_columns": null,
      "grid_auto_flow": null,
      "grid_auto_rows": null,
      "grid_column": null,
      "grid_gap": null,
      "grid_row": null,
      "grid_template_areas": null,
      "grid_template_columns": null,
      "grid_template_rows": null,
      "height": null,
      "justify_content": null,
      "justify_items": null,
      "left": null,
      "margin": null,
      "max_height": null,
      "max_width": null,
      "min_height": null,
      "min_width": null,
      "object_fit": null,
      "object_position": null,
      "order": null,
      "overflow": null,
      "overflow_x": null,
      "overflow_y": null,
      "padding": null,
      "right": null,
      "top": null,
      "visibility": null,
      "width": null
     }
    },
    "5bcd227ad9ab4160ae0e3ec53c17c72f": {
     "model_module": "@jupyter-widgets/controls",
     "model_name": "HBoxModel",
     "state": {
      "_dom_classes": [],
      "_model_module": "@jupyter-widgets/controls",
      "_model_module_version": "1.5.0",
      "_model_name": "HBoxModel",
      "_view_count": null,
      "_view_module": "@jupyter-widgets/controls",
      "_view_module_version": "1.5.0",
      "_view_name": "HBoxView",
      "box_style": "",
      "children": [
       "IPY_MODEL_cda6345f0eca4f5590c8f74e9a5d1c1b",
       "IPY_MODEL_668a619f57ae4ab4861ad66f7a510c8f"
      ],
      "layout": "IPY_MODEL_d3c6cf9faa1a4fafa3afd30d48d3e3d3"
     }
    },
    "668a619f57ae4ab4861ad66f7a510c8f": {
     "model_module": "@jupyter-widgets/controls",
     "model_name": "HTMLModel",
     "state": {
      "_dom_classes": [],
      "_model_module": "@jupyter-widgets/controls",
      "_model_module_version": "1.5.0",
      "_model_name": "HTMLModel",
      "_view_count": null,
      "_view_module": "@jupyter-widgets/controls",
      "_view_module_version": "1.5.0",
      "_view_name": "HTMLView",
      "description": "",
      "description_tooltip": null,
      "layout": "IPY_MODEL_f29f5768bddc4ec9ae6113fd0413e5f7",
      "placeholder": "​",
      "style": "IPY_MODEL_bdde11f9eee843538fbcc1fb082e8871",
      "value": " 100/? [01:25&lt;00:00,  1.17it/s]"
     }
    },
    "6ac2de411e3045feaa246122a0256597": {
     "model_module": "@jupyter-widgets/base",
     "model_name": "LayoutModel",
     "state": {
      "_model_module": "@jupyter-widgets/base",
      "_model_module_version": "1.2.0",
      "_model_name": "LayoutModel",
      "_view_count": null,
      "_view_module": "@jupyter-widgets/base",
      "_view_module_version": "1.2.0",
      "_view_name": "LayoutView",
      "align_content": null,
      "align_items": null,
      "align_self": null,
      "border": null,
      "bottom": null,
      "display": null,
      "flex": null,
      "flex_flow": null,
      "grid_area": null,
      "grid_auto_columns": null,
      "grid_auto_flow": null,
      "grid_auto_rows": null,
      "grid_column": null,
      "grid_gap": null,
      "grid_row": null,
      "grid_template_areas": null,
      "grid_template_columns": null,
      "grid_template_rows": null,
      "height": null,
      "justify_content": null,
      "justify_items": null,
      "left": null,
      "margin": null,
      "max_height": null,
      "max_width": null,
      "min_height": null,
      "min_width": null,
      "object_fit": null,
      "object_position": null,
      "order": null,
      "overflow": null,
      "overflow_x": null,
      "overflow_y": null,
      "padding": null,
      "right": null,
      "top": null,
      "visibility": null,
      "width": null
     }
    },
    "6b3c78b9cdbc4d2482ffcc9ee38cadcf": {
     "model_module": "@jupyter-widgets/base",
     "model_name": "LayoutModel",
     "state": {
      "_model_module": "@jupyter-widgets/base",
      "_model_module_version": "1.2.0",
      "_model_name": "LayoutModel",
      "_view_count": null,
      "_view_module": "@jupyter-widgets/base",
      "_view_module_version": "1.2.0",
      "_view_name": "LayoutView",
      "align_content": null,
      "align_items": null,
      "align_self": null,
      "border": null,
      "bottom": null,
      "display": null,
      "flex": null,
      "flex_flow": null,
      "grid_area": null,
      "grid_auto_columns": null,
      "grid_auto_flow": null,
      "grid_auto_rows": null,
      "grid_column": null,
      "grid_gap": null,
      "grid_row": null,
      "grid_template_areas": null,
      "grid_template_columns": null,
      "grid_template_rows": null,
      "height": null,
      "justify_content": null,
      "justify_items": null,
      "left": null,
      "margin": null,
      "max_height": null,
      "max_width": null,
      "min_height": null,
      "min_width": null,
      "object_fit": null,
      "object_position": null,
      "order": null,
      "overflow": null,
      "overflow_x": null,
      "overflow_y": null,
      "padding": null,
      "right": null,
      "top": null,
      "visibility": null,
      "width": null
     }
    },
    "87935fe477d844239306e2d578f8d83f": {
     "model_module": "@jupyter-widgets/controls",
     "model_name": "ProgressStyleModel",
     "state": {
      "_model_module": "@jupyter-widgets/controls",
      "_model_module_version": "1.5.0",
      "_model_name": "ProgressStyleModel",
      "_view_count": null,
      "_view_module": "@jupyter-widgets/base",
      "_view_module_version": "1.2.0",
      "_view_name": "StyleView",
      "bar_color": null,
      "description_width": "initial"
     }
    },
    "ae4e93aa0748408f81bd241a4fdd921d": {
     "model_module": "@jupyter-widgets/controls",
     "model_name": "HBoxModel",
     "state": {
      "_dom_classes": [],
      "_model_module": "@jupyter-widgets/controls",
      "_model_module_version": "1.5.0",
      "_model_name": "HBoxModel",
      "_view_count": null,
      "_view_module": "@jupyter-widgets/controls",
      "_view_module_version": "1.5.0",
      "_view_name": "HBoxView",
      "box_style": "",
      "children": [
       "IPY_MODEL_e28283894e234c309d0cc45bdc65847e",
       "IPY_MODEL_2215076e6805479c8527e3881f64bddd"
      ],
      "layout": "IPY_MODEL_6b3c78b9cdbc4d2482ffcc9ee38cadcf"
     }
    },
    "bdde11f9eee843538fbcc1fb082e8871": {
     "model_module": "@jupyter-widgets/controls",
     "model_name": "DescriptionStyleModel",
     "state": {
      "_model_module": "@jupyter-widgets/controls",
      "_model_module_version": "1.5.0",
      "_model_name": "DescriptionStyleModel",
      "_view_count": null,
      "_view_module": "@jupyter-widgets/base",
      "_view_module_version": "1.2.0",
      "_view_name": "StyleView",
      "description_width": ""
     }
    },
    "c49aa091cad5417f9c5c6cc6bbab7a70": {
     "model_module": "@jupyter-widgets/controls",
     "model_name": "ProgressStyleModel",
     "state": {
      "_model_module": "@jupyter-widgets/controls",
      "_model_module_version": "1.5.0",
      "_model_name": "ProgressStyleModel",
      "_view_count": null,
      "_view_module": "@jupyter-widgets/base",
      "_view_module_version": "1.2.0",
      "_view_name": "StyleView",
      "bar_color": null,
      "description_width": "initial"
     }
    },
    "cda6345f0eca4f5590c8f74e9a5d1c1b": {
     "model_module": "@jupyter-widgets/controls",
     "model_name": "FloatProgressModel",
     "state": {
      "_dom_classes": [],
      "_model_module": "@jupyter-widgets/controls",
      "_model_module_version": "1.5.0",
      "_model_name": "FloatProgressModel",
      "_view_count": null,
      "_view_module": "@jupyter-widgets/controls",
      "_view_module_version": "1.5.0",
      "_view_name": "ProgressView",
      "bar_style": "success",
      "description": "",
      "description_tooltip": null,
      "layout": "IPY_MODEL_6ac2de411e3045feaa246122a0256597",
      "max": 1,
      "min": 0,
      "orientation": "horizontal",
      "style": "IPY_MODEL_c49aa091cad5417f9c5c6cc6bbab7a70",
      "value": 1
     }
    },
    "d3c6cf9faa1a4fafa3afd30d48d3e3d3": {
     "model_module": "@jupyter-widgets/base",
     "model_name": "LayoutModel",
     "state": {
      "_model_module": "@jupyter-widgets/base",
      "_model_module_version": "1.2.0",
      "_model_name": "LayoutModel",
      "_view_count": null,
      "_view_module": "@jupyter-widgets/base",
      "_view_module_version": "1.2.0",
      "_view_name": "LayoutView",
      "align_content": null,
      "align_items": null,
      "align_self": null,
      "border": null,
      "bottom": null,
      "display": null,
      "flex": null,
      "flex_flow": null,
      "grid_area": null,
      "grid_auto_columns": null,
      "grid_auto_flow": null,
      "grid_auto_rows": null,
      "grid_column": null,
      "grid_gap": null,
      "grid_row": null,
      "grid_template_areas": null,
      "grid_template_columns": null,
      "grid_template_rows": null,
      "height": null,
      "justify_content": null,
      "justify_items": null,
      "left": null,
      "margin": null,
      "max_height": null,
      "max_width": null,
      "min_height": null,
      "min_width": null,
      "object_fit": null,
      "object_position": null,
      "order": null,
      "overflow": null,
      "overflow_x": null,
      "overflow_y": null,
      "padding": null,
      "right": null,
      "top": null,
      "visibility": null,
      "width": null
     }
    },
    "dff53dde4940497ebe42b9bb5135406d": {
     "model_module": "@jupyter-widgets/controls",
     "model_name": "DescriptionStyleModel",
     "state": {
      "_model_module": "@jupyter-widgets/controls",
      "_model_module_version": "1.5.0",
      "_model_name": "DescriptionStyleModel",
      "_view_count": null,
      "_view_module": "@jupyter-widgets/base",
      "_view_module_version": "1.2.0",
      "_view_name": "StyleView",
      "description_width": ""
     }
    },
    "e28283894e234c309d0cc45bdc65847e": {
     "model_module": "@jupyter-widgets/controls",
     "model_name": "FloatProgressModel",
     "state": {
      "_dom_classes": [],
      "_model_module": "@jupyter-widgets/controls",
      "_model_module_version": "1.5.0",
      "_model_name": "FloatProgressModel",
      "_view_count": null,
      "_view_module": "@jupyter-widgets/controls",
      "_view_module_version": "1.5.0",
      "_view_name": "ProgressView",
      "bar_style": "success",
      "description": "100%",
      "description_tooltip": null,
      "layout": "IPY_MODEL_39b151dd2ad7460c8a23fb395947ac26",
      "max": 6,
      "min": 0,
      "orientation": "horizontal",
      "style": "IPY_MODEL_87935fe477d844239306e2d578f8d83f",
      "value": 6
     }
    },
    "f29f5768bddc4ec9ae6113fd0413e5f7": {
     "model_module": "@jupyter-widgets/base",
     "model_name": "LayoutModel",
     "state": {
      "_model_module": "@jupyter-widgets/base",
      "_model_module_version": "1.2.0",
      "_model_name": "LayoutModel",
      "_view_count": null,
      "_view_module": "@jupyter-widgets/base",
      "_view_module_version": "1.2.0",
      "_view_name": "LayoutView",
      "align_content": null,
      "align_items": null,
      "align_self": null,
      "border": null,
      "bottom": null,
      "display": null,
      "flex": null,
      "flex_flow": null,
      "grid_area": null,
      "grid_auto_columns": null,
      "grid_auto_flow": null,
      "grid_auto_rows": null,
      "grid_column": null,
      "grid_gap": null,
      "grid_row": null,
      "grid_template_areas": null,
      "grid_template_columns": null,
      "grid_template_rows": null,
      "height": null,
      "justify_content": null,
      "justify_items": null,
      "left": null,
      "margin": null,
      "max_height": null,
      "max_width": null,
      "min_height": null,
      "min_width": null,
      "object_fit": null,
      "object_position": null,
      "order": null,
      "overflow": null,
      "overflow_x": null,
      "overflow_y": null,
      "padding": null,
      "right": null,
      "top": null,
      "visibility": null,
      "width": null
     }
    },
    "fbfc3ee8b4174f40b2e5eae01dcb190e": {
     "model_module": "@jupyter-widgets/base",
     "model_name": "LayoutModel",
     "state": {
      "_model_module": "@jupyter-widgets/base",
      "_model_module_version": "1.2.0",
      "_model_name": "LayoutModel",
      "_view_count": null,
      "_view_module": "@jupyter-widgets/base",
      "_view_module_version": "1.2.0",
      "_view_name": "LayoutView",
      "align_content": null,
      "align_items": null,
      "align_self": null,
      "border": null,
      "bottom": null,
      "display": null,
      "flex": null,
      "flex_flow": null,
      "grid_area": null,
      "grid_auto_columns": null,
      "grid_auto_flow": null,
      "grid_auto_rows": null,
      "grid_column": null,
      "grid_gap": null,
      "grid_row": null,
      "grid_template_areas": null,
      "grid_template_columns": null,
      "grid_template_rows": null,
      "height": null,
      "justify_content": null,
      "justify_items": null,
      "left": null,
      "margin": null,
      "max_height": null,
      "max_width": null,
      "min_height": null,
      "min_width": null,
      "object_fit": null,
      "object_position": null,
      "order": null,
      "overflow": null,
      "overflow_x": null,
      "overflow_y": null,
      "padding": null,
      "right": null,
      "top": null,
      "visibility": null,
      "width": null
     }
    }
   }
  }
 },
 "nbformat": 4,
 "nbformat_minor": 1
}
