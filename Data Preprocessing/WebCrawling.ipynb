{
 "cells": [
  {
   "cell_type": "code",
   "execution_count": 5,
   "id": "1b44b9e1",
   "metadata": {},
   "outputs": [],
   "source": [
    "# Web page crawling\n",
    "\n",
    "from selenium import webdriver\n",
    "\n",
    "driver_path ='/Users/cheon-yujeong/Desktop/chromedriver'\n",
    "url='https://play.google.com/store/apps/category/GAME'\n",
    "\n",
    "browser= webdriver.Chrome(executable_path=driver_path)\n",
    "browser.get(url)\n",
    "\n",
    "browser.quit()"
   ]
  },
  {
   "cell_type": "code",
   "execution_count": null,
   "id": "55f7f363",
   "metadata": {},
   "outputs": [],
   "source": []
  }
 ],
 "metadata": {
  "kernelspec": {
   "display_name": "Python 3",
   "language": "python",
   "name": "python3"
  },
  "language_info": {
   "codemirror_mode": {
    "name": "ipython",
    "version": 3
   },
   "file_extension": ".py",
   "mimetype": "text/x-python",
   "name": "python",
   "nbconvert_exporter": "python",
   "pygments_lexer": "ipython3",
   "version": "3.8.8"
  }
 },
 "nbformat": 4,
 "nbformat_minor": 5
}
